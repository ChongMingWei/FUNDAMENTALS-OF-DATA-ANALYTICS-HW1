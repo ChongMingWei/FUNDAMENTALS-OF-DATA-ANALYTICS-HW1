{
 "cells": [
  {
   "cell_type": "code",
   "execution_count": 1,
   "metadata": {},
   "outputs": [],
   "source": [
    "import pandas as pd\n",
    "import numpy as np"
   ]
  },
  {
   "cell_type": "code",
   "execution_count": 2,
   "metadata": {},
   "outputs": [],
   "source": [
    "pd_data = pd.read_csv(\"Reviews.csv\")\n",
    "indexbyid = pd.read_csv(\"Reviews.csv\",index_col = \"UserId\")"
   ]
  },
  {
   "cell_type": "code",
   "execution_count": 3,
   "metadata": {},
   "outputs": [],
   "source": [
    "pd_data = pd_data[:10000]\n",
    "userid = pd_data['UserId'].value_counts().keys().tolist()[:10]\n",
    "counts = pd_data['UserId'].value_counts().tolist()[:10]"
   ]
  },
  {
   "cell_type": "code",
   "execution_count": 4,
   "metadata": {},
   "outputs": [],
   "source": [
    "score = []\n",
    "for i in range(len(userid)):\n",
    "    totalscore = pd_data['Score'].where(pd_data['UserId'] == userid[i])\n",
    "    tmp = 0\n",
    "    for j in totalscore:\n",
    "        if not np.isnan(j):\n",
    "            tmp = tmp + j  \n",
    "    score.append(tmp/counts[i])"
   ]
  },
  {
   "cell_type": "code",
   "execution_count": 5,
   "metadata": {},
   "outputs": [],
   "source": [
    "profilename = []\n",
    "for i in userid:\n",
    "    name = indexbyid.loc[i,\"ProfileName\"].tolist()\n",
    "    profilename.append(name[0])"
   ]
  },
  {
   "cell_type": "markdown",
   "metadata": {},
   "source": [
    "The output has more than 3 6-count reviewers, so the result may be different from the [example](https://camo.githubusercontent.com/e735dead572a4a2197f76dbbd71c875756949314/68747470733a2f2f692e696d6775722e636f6d2f79316535566a332e706e67)"
   ]
  },
  {
   "cell_type": "code",
   "execution_count": 6,
   "metadata": {},
   "outputs": [
    {
     "name": "stdout",
     "output_type": "stream",
     "text": [
      "                                                           Score count  \\\n",
      "UserID         Profilename                                               \n",
      "A1Z54EM24Y40LL c2                                                   17   \n",
      "A2SZLNSI5KOQJT Carrie, \"Formerly &#34;Sister Carrie&#34;\"           10   \n",
      "A35R32TA60XD57 M. Torma                                              9   \n",
      "A281NPSIMI1C2R Rebecca of Amazon \"The Rebecca Review\"                8   \n",
      "A3PJZ8TU8FDQ1K Jared Castle                                          7   \n",
      "A3OXHLG6DIBRW8 C. F. Hill \"CFH\"                                      7   \n",
      "A3NHUQ33CFH3VM Citizen John                                          7   \n",
      "ABQN42N7ICNZQ  T.O. Perspective                                      6   \n",
      "AY12DBB0U420B  Gary Peterson                                         6   \n",
      "A10H24TDLK2VDP William Jens Jensen                                   6   \n",
      "\n",
      "                                                           Score mean  \n",
      "UserID         Profilename                                             \n",
      "A1Z54EM24Y40LL c2                                            3.882353  \n",
      "A2SZLNSI5KOQJT Carrie, \"Formerly &#34;Sister Carrie&#34;\"    3.800000  \n",
      "A35R32TA60XD57 M. Torma                                      4.111111  \n",
      "A281NPSIMI1C2R Rebecca of Amazon \"The Rebecca Review\"        5.000000  \n",
      "A3PJZ8TU8FDQ1K Jared Castle                                  4.714286  \n",
      "A3OXHLG6DIBRW8 C. F. Hill \"CFH\"                              4.428571  \n",
      "A3NHUQ33CFH3VM Citizen John                                  3.142857  \n",
      "ABQN42N7ICNZQ  T.O. Perspective                              4.333333  \n",
      "AY12DBB0U420B  Gary Peterson                                 4.500000  \n",
      "A10H24TDLK2VDP William Jens Jensen                           3.000000  \n"
     ]
    }
   ],
   "source": [
    "dict = {\"UserID\":userid,\"Profilename\":profilename,\"Score count\":counts,\"Score mean\":score}\n",
    "output_df = pd.DataFrame(dict)\n",
    "output_df.set_index([\"UserID\", \"Profilename\"], inplace = True) \n",
    "print(output_df)"
   ]
  },
  {
   "cell_type": "code",
   "execution_count": 14,
   "metadata": {},
   "outputs": [
    {
     "data": {
      "text/plain": [
       "<BarContainer object of 5 artists>"
      ]
     },
     "execution_count": 14,
     "metadata": {},
     "output_type": "execute_result"
    },
    {
     "data": {
      "image/png": "[encoded data removed]",
      "text/plain": [
       "<Figure size 432x288 with 1 Axes>"
      ]
     },
     "metadata": {
      "needs_background": "light"
     },
     "output_type": "display_data"
    }
   ],
   "source": [
    "import matplotlib.pyplot as plt\n",
    "Scoreofc2 = []\n",
    "\n",
    "for j in pd_data['Score'].where(pd_data['UserId'] == userid[0]):\n",
    "    if not np.isnan(j):\n",
    "        Scoreofc2.append(j)\n",
    "        \n",
    "frequecyofscore = [0,0,0,0,0]\n",
    "scorelist = [1,2,3,4,5]\n",
    "for num in Scoreofc2:\n",
    "    frequecyofscore[int(num)-1] = frequecyofscore[int(num)-1] + 1\n",
    "plt.bar(scorelist,frequecyofscore,color=['cornflowerblue','orange','g','r','darkorchid'])\n"
   ]
  },
  {
   "cell_type": "code",
   "execution_count": null,
   "metadata": {},
   "outputs": [],
   "source": []
  }
 ],
 "metadata": {
  "kernelspec": {
   "display_name": "Python 3",
   "language": "python",
   "name": "python3"
  },
  "language_info": {
   "codemirror_mode": {
    "name": "ipython",
    "version": 3
   },
   "file_extension": ".py",
   "mimetype": "text/x-python",
   "name": "python",
   "nbconvert_exporter": "python",
   "pygments_lexer": "ipython3",
   "version": "3.5.2"
  }
 },
 "nbformat": 4,
 "nbformat_minor": 2
}
